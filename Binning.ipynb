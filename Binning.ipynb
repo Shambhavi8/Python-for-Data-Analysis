{
 "cells": [
  {
   "cell_type": "code",
   "execution_count": 1,
   "metadata": {
    "collapsed": true
   },
   "outputs": [],
   "source": [
    "import numpy as np\n",
    "import pandas as pd"
   ]
  },
  {
   "cell_type": "code",
   "execution_count": 2,
   "metadata": {
    "collapsed": true
   },
   "outputs": [],
   "source": [
    "years = [1991, 1920, 1967, 1993, 2014, 2016, 2001, 1992, 1901, 2017]"
   ]
  },
  {
   "cell_type": "code",
   "execution_count": 3,
   "metadata": {
    "collapsed": true
   },
   "outputs": [],
   "source": [
    "decade_bins = [1900,1910,1920, 1930, 1940, 1950, 1960, 1970, 1980, 1990, 2000, 2010, 2020]"
   ]
  },
  {
   "cell_type": "code",
   "execution_count": 5,
   "metadata": {
    "collapsed": false
   },
   "outputs": [
    {
     "data": {
      "text/plain": [
       "[(1990, 2000], (1910, 1920], (1960, 1970], (1990, 2000], (2010, 2020], (2010, 2020], (2000, 2010], (1990, 2000], (1900, 1910], (2010, 2020]]\n",
       "Categories (12, object): [(1900, 1910] < (1910, 1920] < (1920, 1930] < (1930, 1940] ... (1980, 1990] < (1990, 2000] < (2000, 2010] < (2010, 2020]]"
      ]
     },
     "execution_count": 5,
     "metadata": {},
     "output_type": "execute_result"
    }
   ],
   "source": [
    "decade_cat = pd.cut(years, decade_bins)\n",
    "decade_cat"
   ]
  },
  {
   "cell_type": "code",
   "execution_count": 7,
   "metadata": {
    "collapsed": false
   },
   "outputs": [
    {
     "data": {
      "text/plain": [
       "Index([u'(1900, 1910]', u'(1910, 1920]', u'(1920, 1930]', u'(1930, 1940]',\n",
       "       u'(1940, 1950]', u'(1950, 1960]', u'(1960, 1970]', u'(1970, 1980]',\n",
       "       u'(1980, 1990]', u'(1990, 2000]', u'(2000, 2010]', u'(2010, 2020]'],\n",
       "      dtype='object')"
      ]
     },
     "execution_count": 7,
     "metadata": {},
     "output_type": "execute_result"
    }
   ],
   "source": [
    "decade_cat.categories"
   ]
  },
  {
   "cell_type": "code",
   "execution_count": 9,
   "metadata": {
    "collapsed": false
   },
   "outputs": [
    {
     "data": {
      "text/plain": [
       "(2010, 2020]    3\n",
       "(1990, 2000]    3\n",
       "(2000, 2010]    1\n",
       "(1960, 1970]    1\n",
       "(1910, 1920]    1\n",
       "(1900, 1910]    1\n",
       "(1980, 1990]    0\n",
       "(1970, 1980]    0\n",
       "(1950, 1960]    0\n",
       "(1940, 1950]    0\n",
       "(1930, 1940]    0\n",
       "(1920, 1930]    0\n",
       "dtype: int64"
      ]
     },
     "execution_count": 9,
     "metadata": {},
     "output_type": "execute_result"
    }
   ],
   "source": [
    "pd.value_counts(decade_cat)"
   ]
  },
  {
   "cell_type": "code",
   "execution_count": 13,
   "metadata": {
    "collapsed": false
   },
   "outputs": [
    {
     "data": {
      "text/plain": [
       "[(1959, 2017], (1900.884, 1959], (1959, 2017], (1959, 2017], (1959, 2017], (1959, 2017], (1959, 2017], (1959, 2017], (1900.884, 1959], (1959, 2017]]\n",
       "Categories (2, object): [(1900.884, 1959] < (1959, 2017]]"
      ]
     },
     "execution_count": 13,
     "metadata": {},
     "output_type": "execute_result"
    }
   ],
   "source": [
    "pd.cut(years,2)"
   ]
  },
  {
   "cell_type": "code",
   "execution_count": 16,
   "metadata": {
    "collapsed": false
   },
   "outputs": [
    {
     "data": {
      "text/plain": [
       "[(1959, 2017], (1900.9, 1959], (1959, 2017], (1959, 2017], (1959, 2017], (1959, 2017], (1959, 2017], (1959, 2017], (1900.9, 1959], (1959, 2017]]\n",
       "Categories (2, object): [(1900.9, 1959] < (1959, 2017]]"
      ]
     },
     "execution_count": 16,
     "metadata": {},
     "output_type": "execute_result"
    }
   ],
   "source": [
    "new_decade_cut = pd.cut(years,2,precision=1)\n",
    "new_decade_cut"
   ]
  },
  {
   "cell_type": "code",
   "execution_count": 18,
   "metadata": {
    "collapsed": false
   },
   "outputs": [
    {
     "data": {
      "text/plain": [
       "Index([u'(1900.9, 1959]', u'(1959, 2017]'], dtype='object')"
      ]
     },
     "execution_count": 18,
     "metadata": {},
     "output_type": "execute_result"
    }
   ],
   "source": [
    "new_decade_cut.categories"
   ]
  },
  {
   "cell_type": "code",
   "execution_count": null,
   "metadata": {
    "collapsed": true
   },
   "outputs": [],
   "source": []
  }
 ],
 "metadata": {
  "kernelspec": {
   "display_name": "Python 2",
   "language": "python",
   "name": "python2"
  },
  "language_info": {
   "codemirror_mode": {
    "name": "ipython",
    "version": 2
   },
   "file_extension": ".py",
   "mimetype": "text/x-python",
   "name": "python",
   "nbconvert_exporter": "python",
   "pygments_lexer": "ipython2",
   "version": "2.7.11"
  }
 },
 "nbformat": 4,
 "nbformat_minor": 0
}
